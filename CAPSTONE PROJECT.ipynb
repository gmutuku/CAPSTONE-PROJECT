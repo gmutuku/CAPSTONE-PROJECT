{
 "cells": [
  {
   "cell_type": "code",
   "execution_count": 1,
   "id": "9250c219",
   "metadata": {
    "scrolled": true
   },
   "outputs": [
    {
     "name": "stdout",
     "output_type": "stream",
     "text": [
      "Requirement already satisfied: requests in c:\\users\\user\\anaconda3\\envs\\creating_an_environment\\lib\\site-packages (2.31.0)\n",
      "Requirement already satisfied: pandas in c:\\users\\user\\anaconda3\\envs\\creating_an_environment\\lib\\site-packages (2.2.0)\n",
      "Requirement already satisfied: charset-normalizer<4,>=2 in c:\\users\\user\\anaconda3\\envs\\creating_an_environment\\lib\\site-packages (from requests) (3.3.2)\n",
      "Requirement already satisfied: idna<4,>=2.5 in c:\\users\\user\\anaconda3\\envs\\creating_an_environment\\lib\\site-packages (from requests) (3.4)\n",
      "Requirement already satisfied: urllib3<3,>=1.21.1 in c:\\users\\user\\anaconda3\\envs\\creating_an_environment\\lib\\site-packages (from requests) (2.2.0)\n",
      "Requirement already satisfied: certifi>=2017.4.17 in c:\\users\\user\\anaconda3\\envs\\creating_an_environment\\lib\\site-packages (from requests) (2024.2.2)\n",
      "Requirement already satisfied: numpy<2,>=1.23.2 in c:\\users\\user\\anaconda3\\envs\\creating_an_environment\\lib\\site-packages (from pandas) (1.26.3)\n",
      "Requirement already satisfied: python-dateutil>=2.8.2 in c:\\users\\user\\anaconda3\\envs\\creating_an_environment\\lib\\site-packages (from pandas) (2.8.2)\n",
      "Requirement already satisfied: pytz>=2020.1 in c:\\users\\user\\anaconda3\\envs\\creating_an_environment\\lib\\site-packages (from pandas) (2024.1)\n",
      "Requirement already satisfied: tzdata>=2022.7 in c:\\users\\user\\anaconda3\\envs\\creating_an_environment\\lib\\site-packages (from pandas) (2023.4)\n",
      "Requirement already satisfied: six>=1.5 in c:\\users\\user\\anaconda3\\envs\\creating_an_environment\\lib\\site-packages (from python-dateutil>=2.8.2->pandas) (1.16.0)\n"
     ]
    }
   ],
   "source": [
    "!pip install requests pandas"
   ]
  },
  {
   "cell_type": "code",
   "execution_count": 3,
   "id": "ec653414",
   "metadata": {},
   "outputs": [
    {
     "name": "stdout",
     "output_type": "stream",
     "text": [
      "Requirement already satisfied: requests in c:\\users\\user\\anaconda3\\envs\\creating_an_environment\\lib\\site-packages (2.31.0)\n",
      "Requirement already satisfied: charset-normalizer<4,>=2 in c:\\users\\user\\anaconda3\\envs\\creating_an_environment\\lib\\site-packages (from requests) (3.3.2)\n",
      "Requirement already satisfied: idna<4,>=2.5 in c:\\users\\user\\anaconda3\\envs\\creating_an_environment\\lib\\site-packages (from requests) (3.4)\n",
      "Requirement already satisfied: urllib3<3,>=1.21.1 in c:\\users\\user\\anaconda3\\envs\\creating_an_environment\\lib\\site-packages (from requests) (2.2.0)\n",
      "Requirement already satisfied: certifi>=2017.4.17 in c:\\users\\user\\anaconda3\\envs\\creating_an_environment\\lib\\site-packages (from requests) (2024.2.2)\n"
     ]
    }
   ],
   "source": [
    "!pip install requests"
   ]
  },
  {
   "cell_type": "code",
   "execution_count": 5,
   "id": "ff55c039",
   "metadata": {},
   "outputs": [
    {
     "name": "stdout",
     "output_type": "stream",
     "text": [
      "{\n",
      "    \"location\": {\n",
      "        \"name\": \"Nairobi\",\n",
      "        \"region\": \"Nairobi Area\",\n",
      "        \"country\": \"Kenya\",\n",
      "        \"lat\": -1.2833,\n",
      "        \"lon\": 36.8167,\n",
      "        \"tz_id\": \"Africa/Nairobi\",\n",
      "        \"localtime_epoch\": 1728655942,\n",
      "        \"localtime\": \"2024-10-11 17:12\"\n",
      "    },\n",
      "    \"current\": {\n",
      "        \"last_updated_epoch\": 1728655200,\n",
      "        \"last_updated\": \"2024-10-11 17:00\",\n",
      "        \"temp_c\": 25.3,\n",
      "        \"temp_f\": 77.5,\n",
      "        \"is_day\": 1,\n",
      "        \"condition\": {\n",
      "            \"text\": \"Partly cloudy\",\n",
      "            \"icon\": \"//cdn.weatherapi.com/weather/64x64/day/116.png\",\n",
      "            \"code\": 1003\n",
      "        },\n",
      "        \"wind_mph\": 12.5,\n",
      "        \"wind_kph\": 20.2,\n",
      "        \"wind_degree\": 123,\n",
      "        \"wind_dir\": \"ESE\",\n",
      "        \"pressure_mb\": 1021.0,\n",
      "        \"pressure_in\": 30.15,\n",
      "        \"precip_mm\": 0.0,\n",
      "        \"precip_in\": 0.0,\n",
      "        \"humidity\": 36,\n",
      "        \"cloud\": 75,\n",
      "        \"feelslike_c\": 24.7,\n",
      "        \"feelslike_f\": 76.5,\n",
      "        \"windchill_c\": 25.6,\n",
      "        \"windchill_f\": 78.0,\n",
      "        \"heatindex_c\": 24.9,\n",
      "        \"heatindex_f\": 76.8,\n",
      "        \"dewpoint_c\": 5.7,\n",
      "        \"dewpoint_f\": 42.2,\n",
      "        \"vis_km\": 10.0,\n",
      "        \"vis_miles\": 6.0,\n",
      "        \"uv\": 1.2,\n",
      "        \"gust_mph\": 14.4,\n",
      "        \"gust_kph\": 23.2\n",
      "    }\n",
      "}\n"
     ]
    }
   ],
   "source": [
    "# Import necessary libraries\n",
    "import requests  # For API requests\n",
    "import json  # For handling JSON data\n",
    "\n",
    "# Weather API details\n",
    "api_key = '8298a945594d47c0993140604241110'\n",
    "city = 'Nairobi'\n",
    "\n",
    "# Fetch weather data\n",
    "url = f\"http://api.weatherapi.com/v1/current.json?key={api_key}&q={city}&aqi=no\"\n",
    "response = requests.get(url)\n",
    "\n",
    "# Convert the response to JSON\n",
    "data = response.json()\n",
    "\n",
    "# Display collected data in formatted JSON\n",
    "print(json.dumps(data, indent=4))\n"
   ]
  },
  {
   "cell_type": "code",
   "execution_count": 6,
   "id": "281aa143",
   "metadata": {},
   "outputs": [
    {
     "name": "stdout",
     "output_type": "stream",
     "text": [
      "Data saved to CSV\n"
     ]
    }
   ],
   "source": [
    "import pandas as pd\n",
    "\n",
    "# Create a DataFrame from the API response\n",
    "weather_data = pd.DataFrame([{\n",
    "    'city': data['location']['name'],\n",
    "    'temperature': data['current']['temp_c'],\n",
    "    'humidity': data['current']['humidity'],\n",
    "    'wind_speed': data['current']['wind_kph'],\n",
    "    'timestamp': data['location']['localtime']\n",
    "}])\n",
    "\n",
    "# Save to CSV\n",
    "weather_data.to_csv('weather_data.csv', mode='a', header=False, index=False)\n",
    "print(\"Data saved to CSV\")"
   ]
  },
  {
   "cell_type": "code",
   "execution_count": 7,
   "id": "57b0cdaa",
   "metadata": {},
   "outputs": [
    {
     "name": "stdout",
     "output_type": "stream",
     "text": [
      "Data saved to SQLite\n"
     ]
    }
   ],
   "source": [
    "import sqlite3\n",
    "\n",
    "# Connect to SQLite database (or create it)\n",
    "conn = sqlite3.connect('weather_data.db')\n",
    "cursor = conn.cursor()\n",
    "\n",
    "# Create table (only run this once)\n",
    "cursor.execute('''CREATE TABLE IF NOT EXISTS weather_data\n",
    "                  (city TEXT, temperature REAL, humidity REAL, wind_speed REAL, timestamp TEXT)''')\n",
    "\n",
    "# Insert data\n",
    "cursor.execute(\"INSERT INTO weather_data VALUES (?, ?, ?, ?, ?)\", \n",
    "               (data['location']['name'], data['current']['temp_c'], \n",
    "                data['current']['humidity'], data['current']['wind_kph'], \n",
    "                data['location']['localtime']))\n",
    "\n",
    "# Commit and close connection\n",
    "conn.commit()\n",
    "conn.close()\n",
    "print(\"Data saved to SQLite\")"
   ]
  },
  {
   "cell_type": "code",
   "execution_count": 8,
   "id": "3863a91a",
   "metadata": {},
   "outputs": [
    {
     "name": "stdout",
     "output_type": "stream",
     "text": [
      "Empty DataFrame\n",
      "Columns: [Nairobi, 25.3, 36, 20.2, 2024-10-11 17:12]\n",
      "Index: []\n"
     ]
    }
   ],
   "source": [
    "df = pd.read_csv('weather_data.csv')\n",
    "print(df.head())"
   ]
  },
  {
   "cell_type": "code",
   "execution_count": 9,
   "id": "c33d5de0",
   "metadata": {},
   "outputs": [
    {
     "name": "stdout",
     "output_type": "stream",
     "text": [
      "       Nairobi 25.3   36 20.2 2024-10-11 17:12\n",
      "count        0    0    0    0                0\n",
      "unique       0    0    0    0                0\n",
      "top        NaN  NaN  NaN  NaN              NaN\n",
      "freq       NaN  NaN  NaN  NaN              NaN\n"
     ]
    }
   ],
   "source": [
    "print(df.describe())"
   ]
  },
  {
   "cell_type": "code",
   "execution_count": 11,
   "id": "c1729956",
   "metadata": {},
   "outputs": [
    {
     "name": "stdout",
     "output_type": "stream",
     "text": [
      "Index(['Nairobi', '25.3', '36', '20.2', '2024-10-11 17:12'], dtype='object')\n"
     ]
    }
   ],
   "source": [
    "print(df.columns)"
   ]
  },
  {
   "cell_type": "code",
   "execution_count": 12,
   "id": "be09f1fe",
   "metadata": {},
   "outputs": [
    {
     "name": "stdout",
     "output_type": "stream",
     "text": [
      "      city  temperature  humidity  wind_speed         timestamp\n",
      "0  Nairobi         25.3        36        20.2  2024-10-11 17:12\n"
     ]
    }
   ],
   "source": [
    "import pandas as pd\n",
    "\n",
    "# Example data\n",
    "data = {\n",
    "    'location': {\n",
    "        'name': 'Nairobi',\n",
    "        'localtime': '2024-10-11 17:12'\n",
    "    },\n",
    "    'current': {\n",
    "        'temp_c': 25.3,\n",
    "        'humidity': 36,\n",
    "        'wind_kph': 20.2\n",
    "    }\n",
    "}\n",
    "\n",
    "# Construct DataFrame with correct column names\n",
    "weather_data = pd.DataFrame([{\n",
    "    'city': data['location']['name'],\n",
    "    'temperature': data['current']['temp_c'],\n",
    "    'humidity': data['current']['humidity'],\n",
    "    'wind_speed': data['current']['wind_kph'],\n",
    "    'timestamp': data['location']['localtime']\n",
    "}])\n",
    "\n",
    "print(weather_data)\n"
   ]
  },
  {
   "cell_type": "code",
   "execution_count": 15,
   "id": "5a5c498b",
   "metadata": {},
   "outputs": [
    {
     "data": {
      "image/png": "[encoded data removed]",
      "text/plain": [
       "<Figure size 640x480 with 1 Axes>"
      ]
     },
     "metadata": {},
     "output_type": "display_data"
    }
   ],
   "source": [
    "import matplotlib.pyplot as plt\n",
    "\n",
    "# Convert 'timestamp' to datetime\n",
    "weather_data['timestamp'] = pd.to_datetime(weather_data['timestamp'])\n",
    "\n",
    "# Plot temperature trends over time\n",
    "weather_data.plot(x='timestamp', y='temperature', kind='line', title='Temperature Over Time')\n",
    "\n",
    "# Show the plot\n",
    "plt.show()\n"
   ]
  },
  {
   "cell_type": "code",
   "execution_count": 14,
   "id": "9d01df4d",
   "metadata": {},
   "outputs": [
    {
     "name": "stdout",
     "output_type": "stream",
     "text": [
      "Index(['city', 'temperature', 'humidity', 'wind_speed', 'timestamp'], dtype='object')\n"
     ]
    }
   ],
   "source": [
    "print(weather_data.columns)\n"
   ]
  },
  {
   "cell_type": "code",
   "execution_count": null,
   "id": "27131a65",
   "metadata": {},
   "outputs": [],
   "source": []
  }
 ],
 "metadata": {
  "kernelspec": {
   "display_name": "Python 3 (ipykernel)",
   "language": "python",
   "name": "python3"
  },
  "language_info": {
   "codemirror_mode": {
    "name": "ipython",
    "version": 3
   },
   "file_extension": ".py",
   "mimetype": "text/x-python",
   "name": "python",
   "nbconvert_exporter": "python",
   "pygments_lexer": "ipython3",
   "version": "3.11.5"
  }
 },
 "nbformat": 4,
 "nbformat_minor": 5
}
